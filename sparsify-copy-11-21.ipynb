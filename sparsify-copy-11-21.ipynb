{
 "cells": [
  {
   "cell_type": "code",
   "execution_count": 7,
   "id": "aa8ff79e",
   "metadata": {},
   "outputs": [],
   "source": [
    "import qiime2\n",
    "\n",
    "import pandas as pd\n",
    "from skbio import OrdinationResults\n",
    "from warnings import warn\n",
    "from qiime2 import Metadata\n",
    "\n",
    "import scipy\n",
    "import skbio\n",
    "import qiime2\n",
    "import itertools\n",
    "import numpy as np \n",
    "import scipy.stats as ss\n",
    "from qiime2.plugins import diversity, feature_table\n",
    "from ete3 import Tree #################\n",
    "\n",
    "##################\n",
    "try:\n",
    "    from q2_types.tree import NewickFormat\n",
    "except ImportError:\n",
    "    NewickFormat = str\n",
    "    \n",
    "from skbio.tree import TreeNode"
   ]
  },
  {
   "cell_type": "code",
   "execution_count": 8,
   "id": "cb610537",
   "metadata": {},
   "outputs": [],
   "source": [
    "def find_matching_index(list1, list2):\n",
    "\n",
    "    inverse_index = { element: index for index, element in enumerate(list1) }\n",
    "\n",
    "    return [(index)\n",
    "        for index, element in enumerate(list2) if element in inverse_index]"
   ]
  },
  {
   "cell_type": "code",
   "execution_count": null,
   "id": "b172c8df",
   "metadata": {},
   "outputs": [],
   "source": []
  }
 ],
 "metadata": {
  "kernelspec": {
   "display_name": "Python 3 (ipykernel)",
   "language": "python",
   "name": "python3"
  },
  "language_info": {
   "codemirror_mode": {
    "name": "ipython",
    "version": 3
   },
   "file_extension": ".py",
   "mimetype": "text/x-python",
   "name": "python",
   "nbconvert_exporter": "python",
   "pygments_lexer": "ipython3",
   "version": "3.8.12"
  }
 },
 "nbformat": 4,
 "nbformat_minor": 5
}
