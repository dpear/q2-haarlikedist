{
 "cells": [
  {
   "cell_type": "code",
   "execution_count": 3,
   "id": "7ef4bbb8",
   "metadata": {},
   "outputs": [],
   "source": [
    "import qiime2\n",
    "\n",
    "import pandas as pd\n",
    "from skbio import OrdinationResults\n",
    "from warnings import warn\n",
    "from qiime2 import Metadata\n",
    "\n",
    "import scipy\n",
    "import skbio\n",
    "import qiime2\n",
    "import itertools\n",
    "import numpy as np \n",
    "import scipy.stats as ss\n",
    "from qiime2.plugins import diversity, feature_table\n",
    "from ete3 import Tree #################\n",
    "\n",
    "##################\n",
    "try:\n",
    "    from q2_types.tree import NewickFormat\n",
    "except ImportError:\n",
    "    NewickFormat = str\n",
    "\n"
   ]
  },
  {
   "cell_type": "code",
   "execution_count": 4,
   "id": "2cc36f67",
   "metadata": {},
   "outputs": [],
   "source": [
    "from skbio.tree import TreeNode\n",
    "\n",
    "from io import StringIO\n",
    "from skbio import read"
   ]
  },
  {
   "cell_type": "code",
   "execution_count": 11,
   "id": "a8c913c1",
   "metadata": {},
   "outputs": [
    {
     "data": {
      "text/plain": [
       "7"
      ]
     },
     "execution_count": 11,
     "metadata": {},
     "output_type": "execute_result"
    }
   ],
   "source": [
    "len([x for x  in t2.tips()])"
   ]
  },
  {
   "cell_type": "code",
   "execution_count": 12,
   "id": "b113e7b5",
   "metadata": {},
   "outputs": [],
   "source": [
    "tree_string = '((1:1.0,(2:1.0,3:1.0):1.0):1.0,(4:1.0,((5:1.0,6:1.0):1.0,7:1.0):1.0):1.0);'\n",
    "tree_string_io = StringIO(tree_string)\n",
    "t2 = read(tree_string_io, format=\"newick\", into=TreeNode)\n",
    "all_leaves = t2.tips()\n",
    "numleaves = len([x for x in t2.tips()])\n",
    "\n",
    "# Matrix that tracks all haar-like vectors\n",
    "# Has n-leaves rows and n-internal nodes columns\n",
    "# Each column represents an internal node\n",
    "# Each row represents a leaf: \n",
    "#    0 if leaf is not a descendant from internal node\n",
    "#    c_L if leaf is a left descendant from internal node\n",
    "#    c_R if leaf is a right descendant from internal node\n",
    "sparsehaarlike = scipy.sparse.lil_matrix((numleaves, numleaves))\n",
    "\n",
    "# Matrix that tracks l-star values\n",
    "# Has n-internal-nodes rows and n-tips columns\n",
    "# Entry i, j represents weighted path distance from internal node i to tip j\n",
    "# This is why it is computed iteratively for internal nodes \n",
    "#       with non-tip descendants.\n",
    "lilmat = scipy.sparse.lil_matrix((numleaves, numleaves)) # 2d vector of lstar0"
   ]
  },
  {
   "cell_type": "code",
   "execution_count": 14,
   "id": "3ada1495",
   "metadata": {},
   "outputs": [],
   "source": [
    "###############################################  \n",
    "def get_case(node):\n",
    "    \"\"\" Handle different types of children\n",
    "        differently. 4 possible child layouts and \n",
    "        returns string describing the case.\n",
    "        Neither => neither child tip etc.\n",
    "    \"\"\"\n",
    "\n",
    "    if not node.has_children():\n",
    "        return 'null'\n",
    "\n",
    "    if node.children[0].has_children():\n",
    "        if node.children[1].has_children():\n",
    "            return 'neither'\n",
    "        else:\n",
    "            return 'right'\n",
    "    else:\n",
    "        if node.children[1].has_children():\n",
    "            return 'left'\n",
    "        else:\n",
    "            return 'both'\n",
    "\n",
    "\n",
    "###############################################\n",
    "tip_index = {t: i for i, t in enumerate(t2.tips())}\n",
    "nontip_index = {t: i for i, t in enumerate(t2.non_tips())}\n",
    "\n",
    "fn_tip = lambda n: [tip_index[n]] if n.is_tip() else []\n",
    "fn_case = lambda n: [get_case(n)] if not n.is_tip() else []\n",
    "\n",
    "# Cache attr stores something for each child I think\n",
    "t2.cache_attr(fn_tip, 'tip_names')\n",
    "t2.cache_attr(fn_case, 'case')"
   ]
  },
  {
   "cell_type": "code",
   "execution_count": 15,
   "id": "7a6afc92",
   "metadata": {},
   "outputs": [],
   "source": [
    "###############################################\n",
    "def handle_both(node, lilmat, sparsehaarlike, i):\n",
    "\n",
    "    child = node.children\n",
    "    lstar = np.zeros((numleaves, 1))\n",
    "    index0 = child[0].tip_names\n",
    "    index1 = child[1].tip_names\n",
    "\n",
    "    lstar[index0] = child[0].length\n",
    "    lstar[index1] = child[1].length\n",
    "    lilmat[i] = np.transpose(lstar)\n",
    "    haarvec = np.zeros((numleaves,1))\n",
    "    haarvec[index0] = 1/np.sqrt(2)\n",
    "    haarvec[index1] = -1/np.sqrt(2)\n",
    "    sparsehaarlike[i] = np.transpose(haarvec)\n",
    "\n",
    "    return lilmat, sparsehaarlike"
   ]
  },
  {
   "cell_type": "code",
   "execution_count": 42,
   "id": "f2fafd7f",
   "metadata": {},
   "outputs": [],
   "source": [
    "def handle_left(node, lilmat, sparsehaarlike, i):\n",
    "\n",
    "    child = node.children\n",
    "    index = nontip_index[child[1]]\n",
    "\n",
    "    lstar0 = np.zeros((numleaves, 1))\n",
    "    lstar1 = np.transpose(lilmat[index].todense())\n",
    "\n",
    "\n",
    "    index0 = child[0].tip_names\n",
    "    index1 = child[1].tip_names\n",
    "\n",
    "    lstar0[index0] = lstar0[index0] + len(child[0].tip_names) * child[0].length\n",
    "    lstar1[index1] = lstar1[index1] + len(child[1].tip_names) * child[1].length # child[1].dist\n",
    "    \n",
    "    lilmat[i] = np.transpose(lstar0) + np.transpose(lstar1)\n",
    "    L1 = np.count_nonzero(lstar1)\n",
    "    haarvec = np.zeros((numleaves, 1))\n",
    "    \n",
    "    haarvec[index0] = np.sqrt(L1/(L1+1))\n",
    "    haarvec[index1] = -np.sqrt(1/(L1*(L1+1)))\n",
    "    sparsehaarlike[i] = np.transpose(haarvec)\n",
    "\n",
    "    return lilmat, sparsehaarlike"
   ]
  },
  {
   "cell_type": "code",
   "execution_count": 49,
   "id": "bf9b9015",
   "metadata": {},
   "outputs": [],
   "source": [
    "def handle_right(node, lilmat, sparsehaarlike, i):\n",
    "\n",
    "    child = node.children\n",
    "    index = nontip_index[child[0]]\n",
    "\n",
    "    lstar0 = np.transpose(lilmat[index].todense())\n",
    "    lstar1 = np.zeros((numleaves, 1))\n",
    "\n",
    "    index0 = child[0].tip_names\n",
    "    index1 = child[1].tip_names\n",
    "\n",
    "    lstar0[index0] = lstar0[index0] + len(child[0].tip_names) * child[0].length\n",
    "    lstar1[index1] = lstar1[index1] + len(child[1].tip_names) * child[1].length\n",
    "    \n",
    "    lilmat[i] = np.transpose(lstar0) + np.transpose(lstar1)\n",
    "\n",
    "    L0 = np.count_nonzero(lstar0)\n",
    "    haarvec = np.zeros((numleaves, 1))\n",
    "    \n",
    "    haarvec[index0] = np.sqrt(1/(L0*(L0+1)))\n",
    "    haarvec[index1] = -np.sqrt(L0/((L0+1)))\n",
    "    sparsehaarlike[i] = np.transpose(haarvec)\n",
    "\n",
    "    return lilmat, sparsehaarlike"
   ]
  },
  {
   "cell_type": "code",
   "execution_count": 62,
   "id": "57c2e24f",
   "metadata": {},
   "outputs": [],
   "source": [
    "def handle_neither(node, lilmat, sparsehaarlike, i):\n",
    "\n",
    "    child = node.children\n",
    "    index0 = nontip_index[child[0]]\n",
    "    index1 = nontip_index[child[1]]\n",
    "\n",
    "    lstar0 = np.transpose(lilmat[index0].todense())\n",
    "    lstar1 = np.transpose(lilmat[index1].todense())\n",
    "\n",
    "    index00 = child[0].tip_names\n",
    "    index11 = child[1].tip_names\n",
    "\n",
    "    print(index0)\n",
    "    print(index00)\n",
    "    print(child[0].tip_names)\n",
    "    print(child[0].length)\n",
    "\n",
    "    lstar0[index00] = lstar0[index00] + len(child[0].tip_names) * child[0].length\n",
    "    lstar1[index11] = lstar1[index11] + len(child[1].tip_names) * child[1].length\n",
    "    \n",
    "    lilmat[i] = np.transpose(lstar0) + np.transpose(lstar1)\n",
    "\n",
    "    L0 = np.count_nonzero(lstar0)\n",
    "    L1 = np.count_nonzero(lstar1)\n",
    "\n",
    "    haarvec = np.zeros((numleaves, 1))\n",
    "    \n",
    "    haarvec[index00] = np.sqrt(L1/(L0*(L0+L1)))\n",
    "    haarvec[index11] = - np.sqrt(L0/(L1*(L0+L1)))\n",
    "\n",
    "    sparsehaarlike[i] = np.transpose(haarvec)\n",
    "\n",
    "    return lilmat, sparsehaarlike"
   ]
  },
  {
   "cell_type": "code",
   "execution_count": 63,
   "id": "339b286d",
   "metadata": {},
   "outputs": [
    {
     "name": "stdout",
     "output_type": "stream",
     "text": [
      "neither\n",
      "1\n",
      "[0, 1, 2]\n",
      "[0, 1, 2]\n",
      "1.0\n",
      "[[ 0.  1.  1.  0.  0.  0.  0.]\n",
      " [ 1.  3.  3.  0.  0.  0.  0.]\n",
      " [ 0.  0.  0.  0.  1.  1.  0.]\n",
      " [ 0.  0.  0.  0.  3.  3.  1.]\n",
      " [ 0.  0.  0.  1.  6.  6.  4.]\n",
      " [ 4.  6.  6.  5. 10. 10.  8.]\n",
      " [ 0.  0.  0.  0.  0.  0.  0.]]\n",
      "[[ 0.          0.70710678 -0.70710678  0.          0.          0.\n",
      "   0.        ]\n",
      " [ 0.81649658 -0.40824829 -0.40824829  0.          0.          0.\n",
      "   0.        ]\n",
      " [ 0.          0.          0.          0.          0.70710678 -0.70710678\n",
      "   0.        ]\n",
      " [ 0.          0.          0.          0.          0.40824829  0.40824829\n",
      "  -0.81649658]\n",
      " [ 0.          0.          0.          0.8660254  -0.28867513 -0.28867513\n",
      "  -0.28867513]\n",
      " [ 0.43643578  0.43643578  0.43643578 -0.32732684 -0.32732684 -0.32732684\n",
      "  -0.32732684]\n",
      " [ 0.          0.          0.          0.          0.          0.\n",
      "   0.        ]]\n"
     ]
    }
   ],
   "source": [
    "sparsehaarlike = scipy.sparse.lil_matrix((numleaves, numleaves))\n",
    "lilmat = scipy.sparse.lil_matrix((numleaves, numleaves)) # 2d vector of lstar0\n",
    "\n",
    "i = 0\n",
    "node = get_node_from_ind(t2, i)\n",
    "# print(node)\n",
    "# print(get_case(node))\n",
    "lilmat, sparsehaarlike = handle_both(node, lilmat, \n",
    "                                             sparsehaarlike, i)\n",
    "# print(lilmat.todense())\n",
    "# print(sparsehaarlike.todense())\n",
    "\n",
    "i = 1 \n",
    "node = get_node_from_ind(t2, i)\n",
    "# print(get_case(node))\n",
    "\n",
    "lilmat, sparsehaarlike = handle_left(node, lilmat, sparsehaarlike, i)\n",
    "\n",
    "# print(lilmat.todense())\n",
    "# print(sparsehaarlike.todense())\n",
    "\n",
    "i = 2\n",
    "node = get_node_from_ind(t2, i)\n",
    "# print(get_case(node))\n",
    "lilmat, sparsehaarlike = handle_both(node, lilmat, sparsehaarlike, i)\n",
    "\n",
    "# print(lilmat.todense())\n",
    "# print(sparsehaarlike.todense())\n",
    "\n",
    "i = 3\n",
    "node = get_node_from_ind(t2, i)\n",
    "# print(get_case(node))\n",
    "lilmat, sparsehaarlike = handle_right(node, lilmat, sparsehaarlike, i)\n",
    "# print(lilmat.todense())\n",
    "# print(sparsehaarlike.todense())\n",
    "\n",
    "i = 4\n",
    "node = get_node_from_ind(t2, i)\n",
    "# print(get_case(node))\n",
    "lilmat, sparsehaarlike = handle_left(node, lilmat, sparsehaarlike, i)\n",
    "# print(lilmat.todense())\n",
    "# print(sparsehaarlike.todense())\n",
    "\n",
    "i = 5\n",
    "node = get_node_from_ind(t2, i)\n",
    "print(get_case(node))\n",
    "lilmat, sparsehaarlike = handle_neither(node, lilmat, sparsehaarlike, i)\n",
    "\n",
    "print(lilmat.todense())\n",
    "print(sparsehaarlike.todense())\n",
    "\n",
    "\n"
   ]
  },
  {
   "cell_type": "code",
   "execution_count": 23,
   "id": "3994187f",
   "metadata": {},
   "outputs": [
    {
     "data": {
      "text/plain": [
       "[1, 2]"
      ]
     },
     "execution_count": 23,
     "metadata": {},
     "output_type": "execute_result"
    }
   ],
   "source": [
    "child = test_node.children\n",
    "index = nontip_index[child[1]] # not sure about this\n",
    "\n",
    "lstar0 = np.zeros((numleaves, 1))\n",
    "lstar1 = np.transpose(lilmat[index].todense())\n",
    "\n",
    "\n",
    "index0 = child[0].tip_names\n",
    "index1 = child[1].tip_names\n",
    "\n",
    "# lstar0[index0] = child[0].length\n",
    "lstar0[index0] = lstar0[index0] + len(child[0].tip_names) * child[0].length\n",
    "lstar1[index1] = lstar1[index1] + len(child[1].tip_names) * child[1].length # child[1].dist\n",
    "\n",
    "lilmat[i] = np.transpose(lstar0) + np.transpose(lstar1)\n",
    "L1 = np.count_nonzero(lstar1)\n",
    "haarvec = np.zeros((numleaves, 1))\n",
    "\n",
    "haarvec[index0] = np.sqrt(L1/(L1+1))\n",
    "haarvec[index1] = - np.sqrt(1/(L1*(L1+1)))\n",
    "sparsehaarlike[i] = np.transpose(haarvec)\n",
    "\n",
    "index1"
   ]
  },
  {
   "cell_type": "code",
   "execution_count": 18,
   "id": "b83f78c0",
   "metadata": {},
   "outputs": [
    {
     "name": "stdout",
     "output_type": "stream",
     "text": [
      "0 [1, 2]\n",
      "1 [0, 1, 2]\n",
      "2 [4, 5]\n",
      "3 [4, 5, 6]\n",
      "4 [3, 4, 5, 6]\n",
      "5 [0, 1, 2, 3, 4, 5, 6]\n"
     ]
    }
   ],
   "source": [
    "\n",
    "for i,n in enumerate(t2.non_tips(include_self=True)):\n",
    "    print(i, n.tip_names)\n",
    "\n",
    "\n",
    "####### TESTS FOR GET_CASE DONE BOOM ###############\n",
    "for i,node in enumerate(t2.non_tips(include_self=True)):\n",
    "\n",
    "    if i == 0:\n",
    "        assert(get_case(node) == 'both')\n",
    "    if i == 1:\n",
    "        assert(get_case(node) == 'left')\n",
    "        test_node = node\n",
    "        # print(nontip_index[node.children[1]])\n",
    "    if i == 2:\n",
    "        assert(get_case(node) == 'both')\n",
    "    if i == 3:\n",
    "        assert(get_case(node) == 'right')\n",
    "    if i == 4:\n",
    "        assert(get_case(node) == 'left')\n",
    "    if i == 5:\n",
    "        assert(get_case(node) == 'neither')"
   ]
  },
  {
   "cell_type": "code",
   "execution_count": 28,
   "id": "3b121f60",
   "metadata": {},
   "outputs": [],
   "source": [
    "def get_node_from_ind(t2, node_ind):\n",
    "    \"\"\" Helper function for testing.\n",
    "        Returns i'th non-tip node. \"\"\"    \n",
    "    for i,n in enumerate(t2.non_tips(include_self=True)):\n",
    "        if i == node_ind:\n",
    "            return n"
   ]
  },
  {
   "cell_type": "code",
   "execution_count": null,
   "id": "8ac2015f",
   "metadata": {},
   "outputs": [],
   "source": [
    "test_node ="
   ]
  },
  {
   "cell_type": "code",
   "execution_count": 5,
   "id": "1f987c99",
   "metadata": {},
   "outputs": [],
   "source": [
    "# # Format = 1: flexible with internal node names\n",
    "\n",
    "# treefile = \"Sparsify-Ultrametric/97_otus_unannotated.tree\"\n",
    "# t = Tree(treefile,format=1) \n",
    "# # This is literally the perfect example of the whole \"how to bake a pie\" irony\n",
    "# # How do you bake a pie? First you make the crust, then filling, then bake\n",
    "# # What if someone gives you the crust? You throw it away and follow the directions above.\n",
    "# # There is a way to import as a NewickFormat tree, see the #### above\n",
    "# t.get_closest_leaf()"
   ]
  },
  {
   "cell_type": "code",
   "execution_count": 78,
   "id": "d9a3d74c",
   "metadata": {},
   "outputs": [],
   "source": [
    "def find_matching_index(list1, list2):\n",
    "\n",
    "    inverse_index = { element: index for index, element in enumerate(list1) }\n",
    "    print(inverse_index)\n",
    "    return [(index)\n",
    "        for index, element in enumerate(list2) if element in inverse_index]"
   ]
  },
  {
   "cell_type": "code",
   "execution_count": 4,
   "id": "264be3e1",
   "metadata": {},
   "outputs": [],
   "source": [
    "tree_string = '((1:1.0,(2:1.0,3:1.0):1.0):1.0,(4:1.0,((5:1.0,6:1.0):1.0,7:1.0):1.0):1.0);'\n",
    "t = Tree(tree_string)\n",
    "\n",
    "# return dictionary of node instances, \n",
    "# allows quick access to node attributes without traversing the tree\n",
    "node2leaves = t.get_cached_content()\n",
    "numleaves = len(t) \n",
    "\n",
    "# Initialize row-based list of lists sparse matrix to store Haar-like vectors\n",
    "# List of lists format\n",
    "sparsehaarlike = scipy.sparse.lil_matrix((numleaves, numleaves))\n",
    "all_leaves = t.get_leaves()\n",
    "mastersplit = t.children\n",
    "lilmat = scipy.sparse.lil_matrix((numleaves, numleaves))"
   ]
  },
  {
   "cell_type": "code",
   "execution_count": null,
   "id": "cf42f506",
   "metadata": {},
   "outputs": [],
   "source": [
    "sparsehaarlike = scipy.sparse.lil_matrix((numleaves, numleaves))"
   ]
  },
  {
   "cell_type": "code",
   "execution_count": 81,
   "id": "550f171d",
   "metadata": {},
   "outputs": [
    {
     "data": {
      "text/plain": [
       "{Tree node '1' (0x7f90f6a9f6a): {Tree node '1' (0x7f90f6a9f6a)},\n",
       " Tree node '2' (0x7f90de5103d): {Tree node '2' (0x7f90de5103d)},\n",
       " Tree node '3' (0x7f90de51034): {Tree node '3' (0x7f90de51034)},\n",
       " Tree node '' (0x7f90f6a9f5e): {Tree node '2' (0x7f90de5103d),\n",
       "  Tree node '3' (0x7f90de51034)},\n",
       " Tree node '' (0x7f90de481fd): {Tree node '1' (0x7f90f6a9f6a),\n",
       "  Tree node '2' (0x7f90de5103d),\n",
       "  Tree node '3' (0x7f90de51034)},\n",
       " Tree node '4' (0x7f90de510d0): {Tree node '4' (0x7f90de510d0)},\n",
       " Tree node '5' (0x7f90de52f04): {Tree node '5' (0x7f90de52f04)},\n",
       " Tree node '6' (0x7f90de52f4c): {Tree node '6' (0x7f90de52f4c)},\n",
       " Tree node '' (0x7f90de52feb): {Tree node '5' (0x7f90de52f04),\n",
       "  Tree node '6' (0x7f90de52f4c)},\n",
       " Tree node '7' (0x7f90de52f31): {Tree node '7' (0x7f90de52f31)},\n",
       " Tree node '' (0x7f90de510ca): {Tree node '5' (0x7f90de52f04),\n",
       "  Tree node '6' (0x7f90de52f4c),\n",
       "  Tree node '7' (0x7f90de52f31)},\n",
       " Tree node '' (0x7f90f1bf17c): {Tree node '4' (0x7f90de510d0),\n",
       "  Tree node '5' (0x7f90de52f04),\n",
       "  Tree node '6' (0x7f90de52f4c),\n",
       "  Tree node '7' (0x7f90de52f31)},\n",
       " Tree node '' (0x7f90de4851c): {Tree node '1' (0x7f90f6a9f6a),\n",
       "  Tree node '2' (0x7f90de5103d),\n",
       "  Tree node '3' (0x7f90de51034),\n",
       "  Tree node '4' (0x7f90de510d0),\n",
       "  Tree node '5' (0x7f90de52f04),\n",
       "  Tree node '6' (0x7f90de52f4c),\n",
       "  Tree node '7' (0x7f90de52f31)}}"
      ]
     },
     "execution_count": 81,
     "metadata": {},
     "output_type": "execute_result"
    }
   ],
   "source": [
    "# node2leaves is a dictionary with each node defined as all of its leaf children\n",
    "# find matching index is only called with a node and all leaves"
   ]
  },
  {
   "cell_type": "code",
   "execution_count": 99,
   "id": "8f0ae3b3",
   "metadata": {},
   "outputs": [],
   "source": [
    "f2 = lambda n: [get_case(n)] if n.is_root() else []\n",
    "\n",
    "t2.cache_attr(f2, 'case')"
   ]
  },
  {
   "cell_type": "code",
   "execution_count": 7,
   "id": "6e41296e",
   "metadata": {},
   "outputs": [
    {
     "ename": "NameError",
     "evalue": "name 'numleaves' is not defined",
     "output_type": "error",
     "traceback": [
      "\u001b[0;31m---------------------------------------------------------------------------\u001b[0m",
      "\u001b[0;31mNameError\u001b[0m                                 Traceback (most recent call last)",
      "\u001b[0;32m/var/folders/pv/hg29j3j512d8wd_qw_8g3msw0000gn/T/ipykernel_1996/1755552539.py\u001b[0m in \u001b[0;36m<module>\u001b[0;34m\u001b[0m\n\u001b[1;32m      5\u001b[0m \u001b[0;34m\u001b[0m\u001b[0m\n\u001b[1;32m      6\u001b[0m \u001b[0mall_leaves\u001b[0m \u001b[0;34m=\u001b[0m \u001b[0mt2\u001b[0m\u001b[0;34m.\u001b[0m\u001b[0mtips\u001b[0m\u001b[0;34m(\u001b[0m\u001b[0;34m)\u001b[0m\u001b[0;34m\u001b[0m\u001b[0;34m\u001b[0m\u001b[0m\n\u001b[0;32m----> 7\u001b[0;31m \u001b[0msparsehaarlike\u001b[0m \u001b[0;34m=\u001b[0m \u001b[0mscipy\u001b[0m\u001b[0;34m.\u001b[0m\u001b[0msparse\u001b[0m\u001b[0;34m.\u001b[0m\u001b[0mlil_matrix\u001b[0m\u001b[0;34m(\u001b[0m\u001b[0;34m(\u001b[0m\u001b[0mnumleaves\u001b[0m\u001b[0;34m,\u001b[0m \u001b[0mnumleaves\u001b[0m\u001b[0;34m)\u001b[0m\u001b[0;34m)\u001b[0m\u001b[0;34m\u001b[0m\u001b[0;34m\u001b[0m\u001b[0m\n\u001b[0m\u001b[1;32m      8\u001b[0m \u001b[0mlilmat\u001b[0m \u001b[0;34m=\u001b[0m \u001b[0mscipy\u001b[0m\u001b[0;34m.\u001b[0m\u001b[0msparse\u001b[0m\u001b[0;34m.\u001b[0m\u001b[0mlil_matrix\u001b[0m\u001b[0;34m(\u001b[0m\u001b[0;34m(\u001b[0m\u001b[0mnumleaves\u001b[0m\u001b[0;34m,\u001b[0m \u001b[0mnumleaves\u001b[0m\u001b[0;34m)\u001b[0m\u001b[0;34m)\u001b[0m \u001b[0;31m# 2d vector of lstar0\u001b[0m\u001b[0;34m\u001b[0m\u001b[0;34m\u001b[0m\u001b[0m\n\u001b[1;32m      9\u001b[0m \u001b[0;34m\u001b[0m\u001b[0m\n",
      "\u001b[0;31mNameError\u001b[0m: name 'numleaves' is not defined"
     ]
    }
   ],
   "source": [
    "# USE SKBIO INSTEAD\n",
    "tree_string = '((1:1.0,(2:1.0,3:1.0):1.0):1.0,(4:1.0,((5:1.0,6:1.0):1.0,7:1.0):1.0):1.0);'\n",
    "tree_string_io = StringIO(tree_string)\n",
    "t2 = read(tree_string_io, format=\"newick\", into=TreeNode)\n",
    "\n",
    "all_leaves = t2.tips()\n",
    "sparsehaarlike = scipy.sparse.lil_matrix((numleaves, numleaves))\n",
    "lilmat = scipy.sparse.lil_matrix((numleaves, numleaves)) # 2d vector of lstar0\n",
    "\n",
    "# This does the same thing as find_matching_index and get_cached_content\n",
    "# CORRECT\n",
    "tip_index = {t: i for i, t in enumerate(t2.tips())}\n",
    "nontip_index = {t: i for i, t in enumerate(t2.non_tips())}\n",
    "\n",
    "\n",
    "fn_tip = lambda n: [tip_index[n]] if n.is_tip() else []\n",
    "fn_case = lambda n: [get_case(n)] if not n.is_tip() else []\n",
    "\n",
    "# Cache attr stores something for each child I think\n",
    "t2.cache_attr(fn_tip, 'tip_names')\n",
    "t2.cache_attr(fn_case, 'case')\n",
    "\n",
    "traversal = t2.postorder(include_self=True)\n",
    "for n in traversal:\n",
    "    print(f'Node name: {n.name}, cache: {n.tip_names}')\n",
    "    print(n.case)\n",
    "    print('   ')"
   ]
  },
  {
   "cell_type": "code",
   "execution_count": 84,
   "id": "d597b1e6",
   "metadata": {},
   "outputs": [
    {
     "name": "stdout",
     "output_type": "stream",
     "text": [
      "0\n",
      "1\n",
      "2\n",
      "3\n",
      "4\n"
     ]
    }
   ],
   "source": [
    "for n in t2.non_tips():\n",
    "    print(nontip_index[n])"
   ]
  },
  {
   "cell_type": "code",
   "execution_count": null,
   "id": "b8e45569",
   "metadata": {},
   "outputs": [],
   "source": [
    "traversal = t2.non_tips(include_self=True)\n",
    "for i, node in enumerate(traversal):\n",
    "\n",
    "    case = get_case(node)\n",
    "\n",
    "    if case == 'neither':\n",
    "        print('n')\n",
    "    if case == 'both':\n",
    "        print('b')\n",
    "    if case == 'left':\n",
    "        print('l')\n",
    "    if case == 'right':\n",
    "        print('r')\n",
    "\n",
    "    print(node.tip_names)\n",
    "    print('  ')\n",
    "\n",
    "    "
   ]
  },
  {
   "cell_type": "code",
   "execution_count": 6,
   "id": "8b6e3a5a",
   "metadata": {},
   "outputs": [],
   "source": [
    "def get_case(node):\n",
    "    \"\"\" Handle different types of children\n",
    "        differently. 4 possible child layouts and \n",
    "        returns string describing the case.\n",
    "        Neither => neither child tip etc.\n",
    "    \"\"\"\n",
    "\n",
    "    if not node.has_children():\n",
    "        return 'null'\n",
    "\n",
    "    if node.children[0].has_children():\n",
    "        if node.children[1].has_children():\n",
    "            return 'neither'\n",
    "        else:\n",
    "            return 'right'\n",
    "    else:\n",
    "        if node.children[1].has_children():\n",
    "            return 'left'\n",
    "        else:\n",
    "            return 'both'"
   ]
  },
  {
   "cell_type": "code",
   "execution_count": 103,
   "id": "4303e44f",
   "metadata": {},
   "outputs": [
    {
     "name": "stdout",
     "output_type": "stream",
     "text": [
      "[1, 2] both\n",
      "[0, 1, 2] left\n",
      "[4, 5] both\n",
      "[4, 5, 6] right\n",
      "[3, 4, 5, 6] left\n",
      "[0, 1, 2, 3, 4, 5, 6] neither\n"
     ]
    }
   ],
   "source": [
    "for n in t2.non_tips(include_self=True):\n",
    "    print(n.tip_names, get_case(n))\n",
    "\n",
    "    "
   ]
  },
  {
   "cell_type": "markdown",
   "id": "7d3fb840",
   "metadata": {},
   "source": []
  },
  {
   "cell_type": "code",
   "execution_count": null,
   "id": "a25bcaee",
   "metadata": {},
   "outputs": [],
   "source": [
    "# I had an error of \"TreeNode object has no pos\"\n",
    "# Resolution: I had added the continue break too early on in code\n",
    "# ordering of nodes in post order traversal\n",
    "\n",
    "# Error of list index out of range for lilmat\n",
    "# Move i+= to the end of the code\n",
    "i = 0\n",
    "\n",
    "# Traverse non_tips in postorder\n",
    "traversal = t2.non_tips(include_self=True)\n",
    "for i,node in enumerate(traversal):\n",
    "\n",
    "    pos = node.tip_names\n",
    "    print(i,pos)\n",
    "    \n",
    "    # node.add_features(pos=pos) # store indices of leaves under each internal node\n",
    "    # node.add_features(loc=i) # Add node index to node features\n",
    "    \n",
    "    # if node.is_tip(): continue # only iterate over internal nodes\n",
    "\n",
    "    case = get_case(node)\n",
    "\n",
    "    # Both children are leaves\n",
    "    # if len(node2leaves[node]) == 2:\n",
    "\n",
    "    if case == 'both_child_tip':\n",
    "\n",
    "        def handle_both(node, lilmat, sparsehaarlike, i):\n",
    "\n",
    "            child = node.children\n",
    "            lstar = np.zeros((numleaves, 1))\n",
    "\n",
    "            # num leaves that descend from tip is 1\n",
    "            index0 = child[0].tip_names\n",
    "            index1 = child[1].tip_names\n",
    "            lstar[index0] = child[0].length * 1.0\n",
    "            lstar[index1] = child[1].length * 1.0 \n",
    "            lilmat[i] = np.transpose(lstar)\n",
    "\n",
    "            haarvec = np.zeros((numleaves,1))\n",
    "            haarvec[index0] = 1/np.sqrt(2)\n",
    "            haarvec[index1] = -1/np.sqrt(2)\n",
    "            sparsehaarlike[i] = np.transpose(haarvec)\n",
    "\n",
    "            return lilmat, sparsehaarlike\n",
    "\n",
    "        lilmat, sparsehaarlike = handle_both(node, lilmat, \n",
    "                                             sparsehaarlike, i)\n",
    "        \n",
    "\n",
    "    elif case == 'left_child_tip':\n",
    "        \n",
    "        def handle_left(node, lilmat, sparsehaarlike, i):\n",
    "\n",
    "            child = node.children\n",
    "            lstar0 = np.zeros((numleaves, 1))\n",
    "            index0 = child[0].tip_names\n",
    "            lstar0[index0] = child[0].length * 1.0\n",
    "\n",
    "            index = nontip_index[child[1]] # not sure about this\n",
    "            \n",
    "            # vector representing the right child internal node\n",
    "            lstar1 = np.transpose(lilmat[index].todense())\n",
    "\n",
    "            # lstar1 is indexed by internal nodes\n",
    "\n",
    "\n",
    "            index1 = child[1].tip_names\n",
    "            lstar1[index1] = lstar1[index1] + len(child[1].children) * child[1].length\n",
    "            lilmat[i] = np.transpose(lstar0) + np.transpose(lstar1)\n",
    "            L1 = np.count_nonzero(lstar1)\n",
    "            haarvec = np.zeros((numleaves, 1))\n",
    "            \n",
    "            haarvec[index0] = np.sqrt(L1/(L1+1))\n",
    "            haarvec[index1] = -np.sqrt(1/(L1*(L1+1)))\n",
    "            sparsehaarlike[i] = np.transpose(haarvec)\n",
    "\n",
    "            return lilmat, sparsehaarlike\n",
    "\n",
    "        lilmat, sparsehaarlike = handle_left(node, lilmat, sparsehaarlike, i)\n",
    "\n",
    "    #     # Right child is a leaf\n",
    "    #     elif len(node2leaves[child[1]]) == 1:\n",
    "    #         lstar1 = np.zeros((numleaves, 1))\n",
    "    #         index1 = child[1].pos\n",
    "    #         lstar1[index1] = child[1].dist\n",
    "    #         index = child[0].loc\n",
    "    #         lstar0 = np.transpose(lilmat[index].todense())\n",
    "    #         index0 = child[0].pos\n",
    "    #         lstar0[index0] = lstar0[index0] + len(child[0])*child[0].dist\n",
    "    #         lilmat[i] = np.transpose(lstar1) + np.transpose(lstar0)\n",
    "    #         L0 = np.count_nonzero(lstar0)\n",
    "            \n",
    "    #         haarvec = np.zeros((numleaves,1))\n",
    "    #         haarvec[index0] = np.sqrt(1/(L0*(L0+1)))\n",
    "    #         haarvec[index1] = -np.sqrt(L0/((L0+1)))\n",
    "    #         sparsehaarlike[i] = np.transpose(haarvec)\n",
    "        \n",
    "    #     # Both children are leaves?\n",
    "    #     else:\n",
    "    #         index0 = child[0].loc\n",
    "    #         index1 = child[1].loc\n",
    "            \n",
    "    #         lstar0 = np.transpose(lilmat[index0].todense())\n",
    "    #         lstar1 = np.transpose(lilmat[index1].todense())\n",
    "            \n",
    "    #         index00 = child[0].pos\n",
    "    #         lstar0[index00] = lstar0[index00] + len(child[0])*child[0].dist\n",
    "    #         index11 = child[1].pos\n",
    "    #         lstar1[index11] = lstar1[index11]+len(child[1])*child[1].dist\n",
    "    #         lilmat[i] = np.transpose(lstar0)+np.transpose(lstar1)\n",
    "    #         L0 = np.count_nonzero(lstar0)\n",
    "    #         L1 = np.count_nonzero(lstar1)\n",
    "            \n",
    "    #         haarvec = np.zeros((numleaves, 1))\n",
    "    #         haarvec[index00] = np.sqrt(L1/(L0*(L0+L1)))\n",
    "    #         haarvec[index11] = -np.sqrt(L0/(L1*(L0+L1)))\n",
    "            \n",
    "    #         sparsehaarlike[i] = np.transpose(haarvec)\n",
    "    #     i+=1"
   ]
  },
  {
   "cell_type": "code",
   "execution_count": 30,
   "id": "b2a5e21e",
   "metadata": {},
   "outputs": [
    {
     "name": "stdout",
     "output_type": "stream",
     "text": [
      "0 [1, 2]\n",
      "1 [0, 1, 2]\n",
      "2 [4, 5]\n",
      "3 [4, 5, 6]\n",
      "4 [3, 4, 5, 6]\n",
      "5 [0, 1, 2, 3, 4, 5, 6]\n"
     ]
    }
   ],
   "source": [
    "\n",
    "for i,n in enumerate(t2.non_tips(include_self=True)):\n",
    "    print(i, n.tip_names)\n",
    "\n",
    "####### TESTS FOR GET_CASE DONE BOOM ###############\n",
    "for i,node in enumerate(t2.non_tips(include_self=True)):\n",
    "\n",
    "    if i == 0:\n",
    "        assert(get_case(node) == 'both')\n",
    "        test_node = node\n",
    "    if i == 1:\n",
    "        assert(get_case(node) == 'left')\n",
    "        # test_node = node\n",
    "        # print(nontip_index[node.children[1]])\n",
    "    if i == 2:\n",
    "        assert(get_case(node) == 'both')\n",
    "    if i == 3:\n",
    "        assert(get_case(node) == 'right')\n",
    "    if i == 4:\n",
    "        assert(get_case(node) == 'left')\n",
    "    if i == 5:\n",
    "        assert(get_case(node) == 'neither')"
   ]
  },
  {
   "cell_type": "code",
   "execution_count": 65,
   "id": "d4f3099c",
   "metadata": {},
   "outputs": [
    {
     "data": {
      "text/plain": [
       "matrix([[0., 0., 0., 0., 0., 0., 0.]])"
      ]
     },
     "execution_count": 65,
     "metadata": {},
     "output_type": "execute_result"
    }
   ],
   "source": [
    "lilmat[1].todense()"
   ]
  },
  {
   "cell_type": "code",
   "execution_count": 67,
   "id": "8d2e225e",
   "metadata": {},
   "outputs": [
    {
     "name": "stdout",
     "output_type": "stream",
     "text": [
      "[[0.]\n",
      " [0.]\n",
      " [0.]\n",
      " [0.]\n",
      " [0.]\n",
      " [0.]\n",
      " [0.]] [0] [1, 2]\n"
     ]
    }
   ],
   "source": [
    "child = test_node.children\n",
    "lstar = np.zeros((numleaves, 1))\n",
    "index0 = child[0].tip_names\n",
    "index1 = child[1].tip_names\n",
    "\n",
    "print(lstar, index0, index1)"
   ]
  },
  {
   "cell_type": "code",
   "execution_count": 71,
   "id": "a3607e93",
   "metadata": {},
   "outputs": [
    {
     "ename": "KeyError",
     "evalue": "<TreeNode, name: unnamed, internal node count: 0, tips count: 2>",
     "output_type": "error",
     "traceback": [
      "\u001b[0;31m---------------------------------------------------------------------------\u001b[0m",
      "\u001b[0;31mKeyError\u001b[0m                                  Traceback (most recent call last)",
      "\u001b[0;32m/var/folders/pv/hg29j3j512d8wd_qw_8g3msw0000gn/T/ipykernel_3571/344819406.py\u001b[0m in \u001b[0;36m<module>\u001b[0;34m\u001b[0m\n\u001b[1;32m      1\u001b[0m \u001b[0mchild\u001b[0m\u001b[0;34m\u001b[0m\u001b[0;34m\u001b[0m\u001b[0m\n\u001b[0;32m----> 2\u001b[0;31m \u001b[0mindex\u001b[0m \u001b[0;34m=\u001b[0m \u001b[0mnontip_index\u001b[0m\u001b[0;34m[\u001b[0m\u001b[0mchild\u001b[0m\u001b[0;34m[\u001b[0m\u001b[0;36m1\u001b[0m\u001b[0;34m]\u001b[0m\u001b[0;34m]\u001b[0m\u001b[0;34m\u001b[0m\u001b[0;34m\u001b[0m\u001b[0m\n\u001b[0m\u001b[1;32m      3\u001b[0m \u001b[0mindex\u001b[0m\u001b[0;34m\u001b[0m\u001b[0;34m\u001b[0m\u001b[0m\n",
      "\u001b[0;31mKeyError\u001b[0m: <TreeNode, name: unnamed, internal node count: 0, tips count: 2>"
     ]
    }
   ],
   "source": [
    "child\n",
    "index = nontip_index[child[1]]\n",
    "index"
   ]
  },
  {
   "cell_type": "code",
   "execution_count": 82,
   "id": "9d56bc62",
   "metadata": {},
   "outputs": [
    {
     "data": {
      "text/plain": [
       "False"
      ]
     },
     "execution_count": 82,
     "metadata": {},
     "output_type": "execute_result"
    }
   ],
   "source": []
  },
  {
   "cell_type": "code",
   "execution_count": 43,
   "id": "f87a0e82",
   "metadata": {},
   "outputs": [
    {
     "data": {
      "text/plain": [
       "<7x7 sparse matrix of type '<class 'numpy.float64'>'\n",
       "\twith 2 stored elements in List of Lists format>"
      ]
     },
     "execution_count": 43,
     "metadata": {},
     "output_type": "execute_result"
    }
   ],
   "source": [
    "lstar[index0] = child[0].length\n",
    "lstar[index1] = child[1].length\n",
    "\n",
    "lilmat[0] = np.transpose(lstar)\n",
    "lilmat\n"
   ]
  },
  {
   "cell_type": "code",
   "execution_count": 57,
   "id": "4432e7df",
   "metadata": {},
   "outputs": [
    {
     "name": "stderr",
     "output_type": "stream",
     "text": [
      "/var/folders/pv/hg29j3j512d8wd_qw_8g3msw0000gn/T/ipykernel_3571/2898193018.py:17: SparseEfficiencyWarning: Comparing sparse matrices using == is inefficient, try using != instead.\n",
      "  true_shl_node0 == sparsehaarlike\n"
     ]
    },
    {
     "data": {
      "text/plain": [
       "True"
      ]
     },
     "execution_count": 57,
     "metadata": {},
     "output_type": "execute_result"
    }
   ],
   "source": [
    "def get_node_from_ind(t2, node_ind):\n",
    "    \"\"\" Helper function for testing.\n",
    "        Returns i'th non-tip node. \"\"\"    \n",
    "    for i,n in enumerate(t2.non_tips(include_self=True)):\n",
    "        if i == node_ind:\n",
    "            return n\n",
    "\n",
    "sparsehaarlike = scipy.sparse.lil_matrix((numleaves, numleaves))\n",
    "lilmat = scipy.sparse.lil_matrix((numleaves, numleaves))\n",
    "\n",
    "sparsehaarlike, lilmat = handle_both(node, lilmat, sparsehaarlike, i)\n",
    "\n",
    "haarvec = np.zeros((numleaves,1))\n",
    "haarvec[index0] = 1/np.sqrt(2)\n",
    "haarvec[index1] = -1/np.sqrt(2)\n",
    "sparsehaarlike[0] = np.transpose(haarvec)\n",
    "\n",
    "# shl = sparse haar like\n",
    "val = 1/np.sqrt(2)\n",
    "true_shl_node0 = [[0, val, -val, 0, 0, 0, 0],\n",
    "                             [0, 0, 0, 0, 0, 0, 0],\n",
    "                             [0, 0, 0, 0, 0, 0, 0],\n",
    "                             [0, 0, 0, 0, 0, 0, 0],\n",
    "                             [0, 0, 0, 0, 0, 0, 0],\n",
    "                             [0, 0, 0, 0, 0, 0, 0],\n",
    "                             [0, 0, 0, 0, 0, 0, 0]]\n",
    "true_shl_node0 = scipy.sparse.lil_matrix(true_shl_node0)       \n",
    "\n",
    "# use numpy method to see if they are all close\n",
    "np.allclose(true_shl_node0.A, sparsehaarlike.A)"
   ]
  },
  {
   "cell_type": "code",
   "execution_count": 60,
   "id": "4a72d8f3",
   "metadata": {},
   "outputs": [
    {
     "ename": "TypeError",
     "evalue": "'generator' object is not subscriptable",
     "output_type": "error",
     "traceback": [
      "\u001b[0;31m---------------------------------------------------------------------------\u001b[0m",
      "\u001b[0;31mTypeError\u001b[0m                                 Traceback (most recent call last)",
      "\u001b[0;32m/var/folders/pv/hg29j3j512d8wd_qw_8g3msw0000gn/T/ipykernel_3571/3406731783.py\u001b[0m in \u001b[0;36m<module>\u001b[0;34m\u001b[0m\n\u001b[0;32m----> 1\u001b[0;31m \u001b[0mt2\u001b[0m\u001b[0;34m.\u001b[0m\u001b[0mnon_tips\u001b[0m\u001b[0;34m(\u001b[0m\u001b[0;34m)\u001b[0m\u001b[0;34m[\u001b[0m\u001b[0;36m0\u001b[0m\u001b[0;34m]\u001b[0m\u001b[0;34m\u001b[0m\u001b[0;34m\u001b[0m\u001b[0m\n\u001b[0m",
      "\u001b[0;31mTypeError\u001b[0m: 'generator' object is not subscriptable"
     ]
    }
   ],
   "source": []
  },
  {
   "cell_type": "code",
   "execution_count": 45,
   "id": "19749a34",
   "metadata": {},
   "outputs": [
    {
     "data": {
      "text/plain": [
       "array([list([0.7071067811865475, -0.7071067811865475]), list([]),\n",
       "       list([]), list([]), list([]), list([]), list([])], dtype=object)"
      ]
     },
     "execution_count": 45,
     "metadata": {},
     "output_type": "execute_result"
    }
   ],
   "source": [
    "sparsehaarlike.data"
   ]
  },
  {
   "cell_type": "code",
   "execution_count": 24,
   "id": "871a4335",
   "metadata": {},
   "outputs": [],
   "source": [
    "assert(get_case(node) == 'both')"
   ]
  },
  {
   "cell_type": "code",
   "execution_count": null,
   "metadata": {},
   "outputs": [],
   "source": [
    "all_leaves = t.get_leaves()\n"
   ]
  },
  {
   "cell_type": "code",
   "execution_count": null,
   "id": "f2526717",
   "metadata": {},
   "outputs": [],
   "source": [
    "leaf_index = {l.name:i for i,l in enumerate(all_leaves)}"
   ]
  },
  {
   "cell_type": "code",
   "execution_count": null,
   "id": "3787c70a",
   "metadata": {},
   "outputs": [],
   "source": [
    "# return dictionary of node instances, \n",
    "# allows quick access to node attributes without traversing the tree\n",
    "node2leaves = t.get_cached_content()\n",
    "numleaves = len(t) \n",
    "\n",
    "# Initialize row-based list of lists sparse matrix to store Haar-like vectors\n",
    "# List of lists format\n",
    "sparsehaarlike = scipy.sparse.lil_matrix((numleaves, numleaves))\n",
    "all_leaves = t.get_leaves()\n",
    "mastersplit = t.children\n",
    "lilmat = scipy.sparse.lil_matrix((numleaves, numleaves))"
   ]
  },
  {
   "cell_type": "code",
   "execution_count": null,
   "id": "18b5fcad",
   "metadata": {},
   "outputs": [],
   "source": [
    "node2leaves"
   ]
  },
  {
   "cell_type": "code",
   "execution_count": null,
   "id": "bafe0c10",
   "metadata": {},
   "outputs": [],
   "source": [
    "def is_leaf_fn(node):\n",
    "    print(node, node.is_leaf())\n",
    "    return node.is_leaf()\n",
    "\n",
    "\n",
    "traversal = t.traverse(\"postorder\", is_leaf_fn)\n",
    "for node in traversal:\n",
    "    print('xxxxxxxx')"
   ]
  },
  {
   "cell_type": "code",
   "execution_count": null,
   "id": "9414e761",
   "metadata": {},
   "outputs": [],
   "source": [
    "traversal = t.traverse(\"postorder\")\n",
    "for node in traversal:\n",
    "\n",
    "    pos = find_matching_index(node, all_leaves)\n",
    "    print(pos)\n",
    "    print('   ')"
   ]
  },
  {
   "cell_type": "code",
   "execution_count": null,
   "id": "81387568",
   "metadata": {},
   "outputs": [],
   "source": [
    "for i, node in enumerate(node):\n",
    "    print(i, node)"
   ]
  },
  {
   "cell_type": "code",
   "execution_count": null,
   "id": "4fb599ae",
   "metadata": {},
   "outputs": [],
   "source": [
    "# I had an error of \"TreeNode object has no pos\"\n",
    "# Resolution: I had added the continue break too early on in code\n",
    "# ordering of nodes in post order traversal\n",
    "\n",
    "# Error of list index out of range for lilmat\n",
    "# Move i+= to the end of the code\n",
    "i = 0\n",
    "traversal = t.traverse(\"postorder\")\n",
    "for node in traversal:\n",
    "\n",
    "    print(i,node)\n",
    "    pos = find_matching_index(node, all_leaves)\n",
    "    \n",
    "    node.add_features(pos=pos) # store indices of leaves under each internal node\n",
    "    node.add_features(loc=i) # Add node index to node features\n",
    "    \n",
    "    if node.is_leaf(): continue # only iterate over internal nodes\n",
    "\n",
    "    # Both children are leaves\n",
    "    if len(node2leaves[node]) == 2:\n",
    "        child = node.children\n",
    "        lstar = np.zeros((numleaves, 1))\n",
    "        index0 = child[0].pos\n",
    "        index1 = child[1].pos\n",
    "        lstar[index0] = child[0].dist\n",
    "        lstar[index1] = child[1].dist\n",
    "        lilmat[i] = np.transpose(lstar)\n",
    "        haarvec = np.zeros((numleaves,1))\n",
    "        haarvec[index0] = 1/np.sqrt(2)\n",
    "        haarvec[index1] = -1/np.sqrt(2)\n",
    "        sparsehaarlike[i] = np.transpose(haarvec)\n",
    "\n",
    "    else:\n",
    "        \n",
    "        child = node.children\n",
    "\n",
    "        # Left child is a leaf\n",
    "        if len(node2leaves[child[0]]) == 1:\n",
    "            lstar0 = np.zeros((numleaves, 1))\n",
    "            index0 = child[0].pos\n",
    "            lstar0[index0] = child[0].dist\n",
    "            index = child[1].loc\n",
    "            lstar1 = np.transpose(lilmat[index].todense())\n",
    "            index1 = child[1].pos                \n",
    "            lstar1[index1] = lstar1[index1] + len(child[1])*child[1].dist\n",
    "            lilmat[i] = np.transpose(lstar0) + np.transpose(lstar1)\n",
    "            L1 = np.count_nonzero(lstar1)\n",
    "            haarvec = np.zeros((numleaves, 1))\n",
    "            \n",
    "            haarvec[index0] = np.sqrt(L1/(L1+1))\n",
    "            haarvec[index1] = -np.sqrt(1/(L1*(L1+1)))\n",
    "            sparsehaarlike[i] = np.transpose(haarvec)\n",
    "\n",
    "        # Right child is a leaf\n",
    "        elif len(node2leaves[child[1]]) == 1:\n",
    "            lstar1 = np.zeros((numleaves, 1))\n",
    "            index1 = child[1].pos\n",
    "            lstar1[index1] = child[1].dist\n",
    "            index = child[0].loc\n",
    "            lstar0 = np.transpose(lilmat[index].todense())\n",
    "            index0 = child[0].pos\n",
    "            lstar0[index0] = lstar0[index0] + len(child[0])*child[0].dist\n",
    "            lilmat[i] = np.transpose(lstar1) + np.transpose(lstar0)\n",
    "            L0 = np.count_nonzero(lstar0)\n",
    "            \n",
    "            haarvec = np.zeros((numleaves,1))\n",
    "            haarvec[index0] = np.sqrt(1/(L0*(L0+1)))\n",
    "            haarvec[index1] = -np.sqrt(L0/((L0+1)))\n",
    "            sparsehaarlike[i] = np.transpose(haarvec)\n",
    "        \n",
    "        # Both children are leaves?\n",
    "        else:\n",
    "            index0 = child[0].loc\n",
    "            index1 = child[1].loc\n",
    "            \n",
    "            lstar0 = np.transpose(lilmat[index0].todense())\n",
    "            lstar1 = np.transpose(lilmat[index1].todense())\n",
    "            \n",
    "            index00 = child[0].pos\n",
    "            lstar0[index00] = lstar0[index00] + len(child[0])*child[0].dist\n",
    "            index11 = child[1].pos\n",
    "            lstar1[index11] = lstar1[index11]+len(child[1])*child[1].dist\n",
    "            lilmat[i] = np.transpose(lstar0)+np.transpose(lstar1)\n",
    "            L0 = np.count_nonzero(lstar0)\n",
    "            L1 = np.count_nonzero(lstar1)\n",
    "            \n",
    "            haarvec = np.zeros((numleaves, 1))\n",
    "            haarvec[index00] = np.sqrt(L1/(L0*(L0+L1)))\n",
    "            haarvec[index11] = -np.sqrt(L0/(L1*(L0+L1)))\n",
    "            \n",
    "            sparsehaarlike[i] = np.transpose(haarvec)\n",
    "        i+=1"
   ]
  },
  {
   "cell_type": "code",
   "execution_count": null,
   "id": "5865d86f",
   "metadata": {},
   "outputs": [],
   "source": [
    "lilmat.data"
   ]
  },
  {
   "cell_type": "code",
   "execution_count": null,
   "id": "01622e79",
   "metadata": {},
   "outputs": [],
   "source": [
    "i=0 #ordering of nodes in post order traversal\n",
    "for node in t.traverse(\"postorder\", is_leaf_fn):\n",
    "    \n",
    "    node.add_features(pos=find_matching_index(node,all_leaves)) # store indices of leaves under each internal node\n",
    "    veclen=len(node2leaves[node])\n",
    "    print(i)\n",
    "    \n",
    "    if not node.is_leaf():\n",
    "        node.add_features(loc=i) #add node index to node features\n",
    "        if veclen==2:\n",
    "            child=node.children\n",
    "            lstar=np.zeros((numleaves,1))\n",
    "            index0=child[0].pos\n",
    "            index1=child[1].pos\n",
    "            lstar[index0]=child[0].dist\n",
    "            lstar[index1]=child[1].dist\n",
    "            lilmat[i]=np.transpose(lstar)\n",
    "            haarvec=np.zeros((numleaves,1))\n",
    "            haarvec[index0]=1/np.sqrt(2)\n",
    "            haarvec[index1]=-1/np.sqrt(2)\n",
    "            sparsehaarlike[i]=np.transpose(haarvec)\n",
    "            i=i+1\n",
    "        else:\n",
    "            child=node.children\n",
    "            if len(node2leaves[child[0]])==1:\n",
    "                lstar0=np.zeros((numleaves,1))\n",
    "                index0=child[0].pos\n",
    "                lstar0[index0]=child[0].dist\n",
    "                index=child[1].loc\n",
    "                lstar1=np.transpose(lilmat[index].todense())\n",
    "                index1=child[1].pos                \n",
    "                lstar1[index1]=lstar1[index1]+len(child[1])*child[1].dist\n",
    "                lilmat[i]=np.transpose(lstar0)+np.transpose(lstar1)\n",
    "                L1=np.count_nonzero(lstar1)\n",
    "                haarvec=np.zeros((numleaves,1))\n",
    "                haarvec[index0]=np.sqrt(L1/(L1+1))\n",
    "                haarvec[index1]=-np.sqrt(1/(L1*(L1+1)))\n",
    "                sparsehaarlike[i]=np.transpose(haarvec)\n",
    "                i=i+1\n",
    "            elif len(node2leaves[child[1]])==1:\n",
    "                lstar1=np.zeros((numleaves,1))\n",
    "                index1=child[1].pos\n",
    "                lstar1[index1]=child[1].dist\n",
    "                index=child[0].loc\n",
    "                lstar0=np.transpose(lilmat[index].todense())\n",
    "                index0=child[0].pos\n",
    "                lstar0[index0]=lstar0[index0]+len(child[0])*child[0].dist\n",
    "                lilmat[i]=np.transpose(lstar1)+np.transpose(lstar0)\n",
    "                L0=np.count_nonzero(lstar0)\n",
    "                haarvec=np.zeros((numleaves,1))\n",
    "                haarvec[index0]=np.sqrt(1/(L0*(L0+1)))\n",
    "                haarvec[index1]=-np.sqrt(L0/((L0+1)))\n",
    "                sparsehaarlike[i]=np.transpose(haarvec)\n",
    "                i=i+1\n",
    "            else:\n",
    "                index0=child[0].loc\n",
    "                index1=child[1].loc\n",
    "                lstar0=np.transpose(lilmat[index0].todense())\n",
    "                lstar1=np.transpose(lilmat[index1].todense())\n",
    "                index00=child[0].pos\n",
    "                lstar0[index00]=lstar0[index00]+len(child[0])*child[0].dist\n",
    "                index11=child[1].pos\n",
    "                lstar1[index11]=lstar1[index11]+len(child[1])*child[1].dist\n",
    "                lilmat[i]=np.transpose(lstar0)+np.transpose(lstar1)\n",
    "                L0=np.count_nonzero(lstar0)\n",
    "                L1=np.count_nonzero(lstar1)\n",
    "                haarvec=np.zeros((numleaves,1))\n",
    "                haarvec[index00]=np.sqrt(L1/(L0*(L0+L1)))\n",
    "                haarvec[index11]=-np.sqrt(L0/(L1*(L0+L1)))\n",
    "                sparsehaarlike[i]=np.transpose(haarvec)\n",
    "                i=i+1"
   ]
  },
  {
   "cell_type": "code",
   "execution_count": null,
   "id": "dba744d3",
   "metadata": {},
   "outputs": [],
   "source": [
    "# CODE GRAVEYARD\n",
    "\n",
    "\n",
    "\n",
    "t2 = read(StringIO(tree_string), \n",
    "          format=\"newick\", into=TreeNode)\n",
    "\n",
    "node_index = {l: i for i, l in enumerate(t2.tips())}\n",
    "f = lambda n: [node_index[n]] if n.is_tip() else []\n",
    "f2 = lambda n: [n] \n",
    "\n",
    "\n",
    "t2.cache_attr(f, 'tip_names')\n",
    "\n",
    "traversal = t2.postorder(include_self=True)\n",
    "for n in traversal:\n",
    "    print(\"Node name: %s, cache: %r\" % (n.name, n.tip_names))\n",
    "    print('   ')\n",
    "\n",
    "\n",
    "\n",
    "\n",
    "treefile = \"Sparsify-Ultrametric/tree.qza\"\n",
    "\n",
    "tree = qiime2.Artifact.load(treefile)\n",
    "\n",
    "try:\n",
    "    from q2_types.tree import NewickFormat\n",
    "except ImportError:\n",
    "    NewickFormat = str\n",
    "\n",
    "\n",
    "\n"
   ]
  }
 ],
 "metadata": {
  "celltoolbar": "Tags",
  "interpreter": {
   "hash": "f5172ca4aa3a2d751da52ec4a31a46598689654545d8e65ee4614f7217aa9dd5"
  },
  "kernelspec": {
   "display_name": "Python 3.8.12 ('qiime2-2021.11')",
   "language": "python",
   "name": "python3"
  },
  "language_info": {
   "codemirror_mode": {
    "name": "ipython",
    "version": 3
   },
   "file_extension": ".py",
   "mimetype": "text/x-python",
   "name": "python",
   "nbconvert_exporter": "python",
   "pygments_lexer": "ipython3",
   "version": "3.8.12"
  }
 },
 "nbformat": 4,
 "nbformat_minor": 5
}
